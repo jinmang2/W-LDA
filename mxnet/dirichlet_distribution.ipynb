{
 "cells": [
  {
   "cell_type": "markdown",
   "metadata": {},
   "source": [
    "---\n",
    "\n",
    "### 번외: Dirichlet Distribution and Multinomial Distribution\n",
    "- https://towardsdatascience.com/calogica-com-dice-polls-dirichlet-multinomials-eca987e6ec3f\n",
    "- [pymc3](https://mons1220.tistory.com/213)\n",
    "    - 베이지안 회귀분석을 위한 python packages\n",
    "    - conda로 설치하는 것이 에러가 적다고 함\n",
    "    - python 3.6에서 안정적\n",
    "- https://blog.byronjsmith.com/dirichlet-multinomial-example.html\n",
    "- http://blog.bogatron.net/blog/2014/02/02/visualizing-dirichlet-distributions/"
   ]
  },
  {
   "cell_type": "markdown",
   "metadata": {},
   "source": [
    "$$\\theta \\sim Dir(\\alpha)$$\n",
    "$$y \\sim Multimonial(n, \\theta)$$"
   ]
  }
 ],
 "metadata": {
  "kernelspec": {
   "display_name": "basic",
   "language": "python",
   "name": "basic"
  },
  "language_info": {
   "codemirror_mode": {
    "name": "ipython",
    "version": 3
   },
   "file_extension": ".py",
   "mimetype": "text/x-python",
   "name": "python",
   "nbconvert_exporter": "python",
   "pygments_lexer": "ipython3",
   "version": "3.6.9"
  }
 },
 "nbformat": 4,
 "nbformat_minor": 4
}
