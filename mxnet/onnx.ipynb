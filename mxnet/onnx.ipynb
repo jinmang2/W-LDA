{
 "cells": [
  {
   "cell_type": "code",
   "execution_count": 1,
   "metadata": {},
   "outputs": [],
   "source": [
    "import numpy as np\n",
    "\n",
    "import torch\n",
    "import torch.nn as nn"
   ]
  },
  {
   "cell_type": "code",
   "execution_count": 4,
   "metadata": {},
   "outputs": [],
   "source": [
    "class AlexNet(nn.Module):\n",
    "\n",
    "    def __init__(self, num_classes: int = 1000) -> None:\n",
    "        super(AlexNet, self).__init__()\n",
    "        self.features = nn.Sequential(\n",
    "            nn.Conv2d(3, 64, kernel_size=11, stride=4, padding=2),\n",
    "            nn.ReLU(inplace=True),\n",
    "            nn.MaxPool2d(kernel_size=3, stride=2),\n",
    "            nn.Conv2d(64, 192, kernel_size=5, padding=2),\n",
    "            nn.ReLU(inplace=True),\n",
    "            nn.MaxPool2d(kernel_size=3, stride=2),\n",
    "            nn.Conv2d(192, 384, kernel_size=3, padding=1),\n",
    "            nn.ReLU(inplace=True),\n",
    "            nn.Conv2d(384, 256, kernel_size=3, padding=1),\n",
    "            nn.ReLU(inplace=True),\n",
    "            nn.Conv2d(256, 256, kernel_size=3, padding=1),\n",
    "            nn.ReLU(inplace=True),\n",
    "            nn.MaxPool2d(kernel_size=3, stride=2),\n",
    "        )\n",
    "        self.avgpool = nn.AdaptiveAvgPool2d((6, 6))\n",
    "        self.classifier = nn.Sequential(\n",
    "            nn.Dropout(),\n",
    "            nn.Linear(256 * 6 * 6, 4096),\n",
    "            nn.ReLU(inplace=True),\n",
    "            nn.Dropout(),\n",
    "            nn.Linear(4096, 4096),\n",
    "            nn.ReLU(inplace=True),\n",
    "            nn.Linear(4096, num_classes),\n",
    "        )\n",
    "\n",
    "    def forward(self, x: torch.Tensor) -> torch.Tensor:\n",
    "        x = self.features(x)\n",
    "        x = self.avgpool(x)\n",
    "        x = torch.flatten(x, 1)\n",
    "        x = self.classifier(x)\n",
    "        return x"
   ]
  },
  {
   "cell_type": "code",
   "execution_count": 5,
   "metadata": {},
   "outputs": [],
   "source": [
    "model = AlexNet()"
   ]
  },
  {
   "cell_type": "code",
   "execution_count": 6,
   "metadata": {},
   "outputs": [],
   "source": [
    "input_names = [ \"actual_input_1\" ] + [ \"learned_%d\" % i for i in range(16) ]\n",
    "output_names = [ \"output1\" ]"
   ]
  },
  {
   "cell_type": "code",
   "execution_count": 7,
   "metadata": {},
   "outputs": [
    {
     "data": {
      "text/plain": [
       "['actual_input_1',\n",
       " 'learned_0',\n",
       " 'learned_1',\n",
       " 'learned_2',\n",
       " 'learned_3',\n",
       " 'learned_4',\n",
       " 'learned_5',\n",
       " 'learned_6',\n",
       " 'learned_7',\n",
       " 'learned_8',\n",
       " 'learned_9',\n",
       " 'learned_10',\n",
       " 'learned_11',\n",
       " 'learned_12',\n",
       " 'learned_13',\n",
       " 'learned_14',\n",
       " 'learned_15']"
      ]
     },
     "execution_count": 7,
     "metadata": {},
     "output_type": "execute_result"
    }
   ],
   "source": [
    "input_names"
   ]
  },
  {
   "cell_type": "code",
   "execution_count": 8,
   "metadata": {},
   "outputs": [
    {
     "data": {
      "text/plain": [
       "['output1']"
      ]
     },
     "execution_count": 8,
     "metadata": {},
     "output_type": "execute_result"
    }
   ],
   "source": [
    "output_names"
   ]
  },
  {
   "cell_type": "code",
   "execution_count": 9,
   "metadata": {},
   "outputs": [],
   "source": [
    "dummy_input = torch.randn(10, 3, 224, 224, device=\"cpu\")"
   ]
  },
  {
   "cell_type": "code",
   "execution_count": 10,
   "metadata": {
    "scrolled": true
   },
   "outputs": [
    {
     "name": "stdout",
     "output_type": "stream",
     "text": [
      "graph(%actual_input_1 : Float(10:150528, 3:50176, 224:224, 224:1, requires_grad=0, device=cpu),\n",
      "      %learned_0 : Float(64:363, 3:121, 11:11, 11:1, requires_grad=1, device=cpu),\n",
      "      %learned_1 : Float(64:1, requires_grad=1, device=cpu),\n",
      "      %learned_2 : Float(192:1600, 64:25, 5:5, 5:1, requires_grad=1, device=cpu),\n",
      "      %learned_3 : Float(192:1, requires_grad=1, device=cpu),\n",
      "      %learned_4 : Float(384:1728, 192:9, 3:3, 3:1, requires_grad=1, device=cpu),\n",
      "      %learned_5 : Float(384:1, requires_grad=1, device=cpu),\n",
      "      %learned_6 : Float(256:3456, 384:9, 3:3, 3:1, requires_grad=1, device=cpu),\n",
      "      %learned_7 : Float(256:1, requires_grad=1, device=cpu),\n",
      "      %learned_8 : Float(256:2304, 256:9, 3:3, 3:1, requires_grad=1, device=cpu),\n",
      "      %learned_9 : Float(256:1, requires_grad=1, device=cpu),\n",
      "      %learned_10 : Float(4096:9216, 9216:1, requires_grad=1, device=cpu),\n",
      "      %learned_11 : Float(4096:1, requires_grad=1, device=cpu),\n",
      "      %learned_12 : Float(4096:4096, 4096:1, requires_grad=1, device=cpu),\n",
      "      %learned_13 : Float(4096:1, requires_grad=1, device=cpu),\n",
      "      %learned_14 : Float(1000:4096, 4096:1, requires_grad=1, device=cpu),\n",
      "      %learned_15 : Float(1000:1, requires_grad=1, device=cpu)):\n",
      "  %17 : Float(10:193600, 64:3025, 55:55, 55:1, requires_grad=1, device=cpu) = onnx::Conv[dilations=[1, 1], group=1, kernel_shape=[11, 11], pads=[2, 2, 2, 2], strides=[4, 4]](%actual_input_1, %learned_0, %learned_1) # C:\\Users\\jinma\\AppData\\Local\\Continuum\\anaconda3\\envs\\basic\\lib\\site-packages\\torch\\nn\\modules\\conv.py:420:0\n",
      "  %18 : Float(10:193600, 64:3025, 55:55, 55:1, requires_grad=1, device=cpu) = onnx::Relu(%17) # C:\\Users\\jinma\\AppData\\Local\\Continuum\\anaconda3\\envs\\basic\\lib\\site-packages\\torch\\nn\\functional.py:1134:0\n",
      "  %19 : Float(10:46656, 64:729, 27:27, 27:1, requires_grad=1, device=cpu) = onnx::MaxPool[kernel_shape=[3, 3], pads=[0, 0, 0, 0], strides=[2, 2]](%18) # C:\\Users\\jinma\\AppData\\Local\\Continuum\\anaconda3\\envs\\basic\\lib\\site-packages\\torch\\nn\\functional.py:586:0\n",
      "  %20 : Float(10:139968, 192:729, 27:27, 27:1, requires_grad=1, device=cpu) = onnx::Conv[dilations=[1, 1], group=1, kernel_shape=[5, 5], pads=[2, 2, 2, 2], strides=[1, 1]](%19, %learned_2, %learned_3) # C:\\Users\\jinma\\AppData\\Local\\Continuum\\anaconda3\\envs\\basic\\lib\\site-packages\\torch\\nn\\modules\\conv.py:420:0\n",
      "  %21 : Float(10:139968, 192:729, 27:27, 27:1, requires_grad=1, device=cpu) = onnx::Relu(%20) # C:\\Users\\jinma\\AppData\\Local\\Continuum\\anaconda3\\envs\\basic\\lib\\site-packages\\torch\\nn\\functional.py:1134:0\n",
      "  %22 : Float(10:32448, 192:169, 13:13, 13:1, requires_grad=1, device=cpu) = onnx::MaxPool[kernel_shape=[3, 3], pads=[0, 0, 0, 0], strides=[2, 2]](%21) # C:\\Users\\jinma\\AppData\\Local\\Continuum\\anaconda3\\envs\\basic\\lib\\site-packages\\torch\\nn\\functional.py:586:0\n",
      "  %23 : Float(10:64896, 384:169, 13:13, 13:1, requires_grad=1, device=cpu) = onnx::Conv[dilations=[1, 1], group=1, kernel_shape=[3, 3], pads=[1, 1, 1, 1], strides=[1, 1]](%22, %learned_4, %learned_5) # C:\\Users\\jinma\\AppData\\Local\\Continuum\\anaconda3\\envs\\basic\\lib\\site-packages\\torch\\nn\\modules\\conv.py:420:0\n",
      "  %24 : Float(10:64896, 384:169, 13:13, 13:1, requires_grad=1, device=cpu) = onnx::Relu(%23) # C:\\Users\\jinma\\AppData\\Local\\Continuum\\anaconda3\\envs\\basic\\lib\\site-packages\\torch\\nn\\functional.py:1134:0\n",
      "  %25 : Float(10:43264, 256:169, 13:13, 13:1, requires_grad=1, device=cpu) = onnx::Conv[dilations=[1, 1], group=1, kernel_shape=[3, 3], pads=[1, 1, 1, 1], strides=[1, 1]](%24, %learned_6, %learned_7) # C:\\Users\\jinma\\AppData\\Local\\Continuum\\anaconda3\\envs\\basic\\lib\\site-packages\\torch\\nn\\modules\\conv.py:420:0\n",
      "  %26 : Float(10:43264, 256:169, 13:13, 13:1, requires_grad=1, device=cpu) = onnx::Relu(%25) # C:\\Users\\jinma\\AppData\\Local\\Continuum\\anaconda3\\envs\\basic\\lib\\site-packages\\torch\\nn\\functional.py:1134:0\n",
      "  %27 : Float(10:43264, 256:169, 13:13, 13:1, requires_grad=1, device=cpu) = onnx::Conv[dilations=[1, 1], group=1, kernel_shape=[3, 3], pads=[1, 1, 1, 1], strides=[1, 1]](%26, %learned_8, %learned_9) # C:\\Users\\jinma\\AppData\\Local\\Continuum\\anaconda3\\envs\\basic\\lib\\site-packages\\torch\\nn\\modules\\conv.py:420:0\n",
      "  %28 : Float(10:43264, 256:169, 13:13, 13:1, requires_grad=1, device=cpu) = onnx::Relu(%27) # C:\\Users\\jinma\\AppData\\Local\\Continuum\\anaconda3\\envs\\basic\\lib\\site-packages\\torch\\nn\\functional.py:1134:0\n",
      "  %29 : Float(10:9216, 256:36, 6:6, 6:1, requires_grad=1, device=cpu) = onnx::MaxPool[kernel_shape=[3, 3], pads=[0, 0, 0, 0], strides=[2, 2]](%28) # C:\\Users\\jinma\\AppData\\Local\\Continuum\\anaconda3\\envs\\basic\\lib\\site-packages\\torch\\nn\\functional.py:586:0\n",
      "  %30 : Float(10:9216, 256:36, 6:6, 6:1, requires_grad=1, device=cpu) = onnx::AveragePool[kernel_shape=[1, 1], strides=[1, 1]](%29) # C:\\Users\\jinma\\AppData\\Local\\Continuum\\anaconda3\\envs\\basic\\lib\\site-packages\\torch\\nn\\functional.py:936:0\n",
      "  %31 : Float(10:9216, 9216:1, requires_grad=1, device=cpu) = onnx::Flatten[axis=1](%30) # C:\\Users\\jinma\\AppData\\Local\\Continuum\\anaconda3\\envs\\basic\\lib\\site-packages\\torch\\nn\\functional.py:983:0\n",
      "  %32 : Float(10:4096, 4096:1, requires_grad=1, device=cpu) = onnx::Gemm[alpha=1., beta=1., transB=1](%31, %learned_10, %learned_11) # C:\\Users\\jinma\\AppData\\Local\\Continuum\\anaconda3\\envs\\basic\\lib\\site-packages\\torch\\nn\\functional.py:1690:0\n",
      "  %33 : Float(10:4096, 4096:1, requires_grad=1, device=cpu) = onnx::Relu(%32) # C:\\Users\\jinma\\AppData\\Local\\Continuum\\anaconda3\\envs\\basic\\lib\\site-packages\\torch\\nn\\functional.py:983:0\n",
      "  %34 : Float(10:4096, 4096:1, requires_grad=1, device=cpu) = onnx::Gemm[alpha=1., beta=1., transB=1](%33, %learned_12, %learned_13) # C:\\Users\\jinma\\AppData\\Local\\Continuum\\anaconda3\\envs\\basic\\lib\\site-packages\\torch\\nn\\functional.py:1690:0\n",
      "  %35 : Float(10:4096, 4096:1, requires_grad=1, device=cpu) = onnx::Relu(%34) # C:\\Users\\jinma\\AppData\\Local\\Continuum\\anaconda3\\envs\\basic\\lib\\site-packages\\torch\\nn\\functional.py:1134:0\n",
      "  %output1 : Float(10:1000, 1000:1, requires_grad=1, device=cpu) = onnx::Gemm[alpha=1., beta=1., transB=1](%35, %learned_14, %learned_15) # C:\\Users\\jinma\\AppData\\Local\\Continuum\\anaconda3\\envs\\basic\\lib\\site-packages\\torch\\nn\\functional.py:1690:0\n",
      "  return (%output1)\n",
      "\n"
     ]
    }
   ],
   "source": [
    "torch.onnx.export(model, dummy_input, \"alexnet.onnx\", verbose=True, \n",
    "                  input_names=input_names, output_names=output_names)"
   ]
  },
  {
   "cell_type": "code",
   "execution_count": 11,
   "metadata": {},
   "outputs": [],
   "source": [
    "import onnx\n",
    "\n",
    "# Load the ONNX model\n",
    "model = onnx.load(\"alexnet.onnx\")"
   ]
  },
  {
   "cell_type": "code",
   "execution_count": 13,
   "metadata": {},
   "outputs": [
    {
     "data": {
      "text/plain": [
       "onnx.onnx_ml_pb2.ModelProto"
      ]
     },
     "execution_count": 13,
     "metadata": {},
     "output_type": "execute_result"
    }
   ],
   "source": [
    "type(model)"
   ]
  },
  {
   "cell_type": "code",
   "execution_count": 14,
   "metadata": {},
   "outputs": [],
   "source": [
    "# Check that the IR is well formed\n",
    "onnx.checker.check_model(model)"
   ]
  },
  {
   "cell_type": "code",
   "execution_count": 15,
   "metadata": {},
   "outputs": [
    {
     "data": {
      "text/plain": [
       "'graph torch-jit-export (\\n  %actual_input_1[FLOAT, 10x3x224x224]\\n) initializers (\\n  %learned_0[FLOAT, 64x3x11x11]\\n  %learned_1[FLOAT, 64]\\n  %learned_10[FLOAT, 4096x9216]\\n  %learned_11[FLOAT, 4096]\\n  %learned_12[FLOAT, 4096x4096]\\n  %learned_13[FLOAT, 4096]\\n  %learned_14[FLOAT, 1000x4096]\\n  %learned_15[FLOAT, 1000]\\n  %learned_2[FLOAT, 192x64x5x5]\\n  %learned_3[FLOAT, 192]\\n  %learned_4[FLOAT, 384x192x3x3]\\n  %learned_5[FLOAT, 384]\\n  %learned_6[FLOAT, 256x384x3x3]\\n  %learned_7[FLOAT, 256]\\n  %learned_8[FLOAT, 256x256x3x3]\\n  %learned_9[FLOAT, 256]\\n) {\\n  %17 = Conv[dilations = [1, 1], group = 1, kernel_shape = [11, 11], pads = [2, 2, 2, 2], strides = [4, 4]](%actual_input_1, %learned_0, %learned_1)\\n  %18 = Relu(%17)\\n  %19 = MaxPool[kernel_shape = [3, 3], pads = [0, 0, 0, 0], strides = [2, 2]](%18)\\n  %20 = Conv[dilations = [1, 1], group = 1, kernel_shape = [5, 5], pads = [2, 2, 2, 2], strides = [1, 1]](%19, %learned_2, %learned_3)\\n  %21 = Relu(%20)\\n  %22 = MaxPool[kernel_shape = [3, 3], pads = [0, 0, 0, 0], strides = [2, 2]](%21)\\n  %23 = Conv[dilations = [1, 1], group = 1, kernel_shape = [3, 3], pads = [1, 1, 1, 1], strides = [1, 1]](%22, %learned_4, %learned_5)\\n  %24 = Relu(%23)\\n  %25 = Conv[dilations = [1, 1], group = 1, kernel_shape = [3, 3], pads = [1, 1, 1, 1], strides = [1, 1]](%24, %learned_6, %learned_7)\\n  %26 = Relu(%25)\\n  %27 = Conv[dilations = [1, 1], group = 1, kernel_shape = [3, 3], pads = [1, 1, 1, 1], strides = [1, 1]](%26, %learned_8, %learned_9)\\n  %28 = Relu(%27)\\n  %29 = MaxPool[kernel_shape = [3, 3], pads = [0, 0, 0, 0], strides = [2, 2]](%28)\\n  %30 = AveragePool[kernel_shape = [1, 1], strides = [1, 1]](%29)\\n  %31 = Flatten[axis = 1](%30)\\n  %32 = Gemm[alpha = 1, beta = 1, transB = 1](%31, %learned_10, %learned_11)\\n  %33 = Relu(%32)\\n  %34 = Gemm[alpha = 1, beta = 1, transB = 1](%33, %learned_12, %learned_13)\\n  %35 = Relu(%34)\\n  %output1 = Gemm[alpha = 1, beta = 1, transB = 1](%35, %learned_14, %learned_15)\\n  return %output1\\n}'"
      ]
     },
     "execution_count": 15,
     "metadata": {},
     "output_type": "execute_result"
    }
   ],
   "source": [
    "# Print a human readable representation of the graph\n",
    "onnx.helper.printable_graph(model.graph)"
   ]
  },
  {
   "cell_type": "markdown",
   "metadata": {},
   "source": [
    "# Tracing vs Scripting\n",
    "- `Trace-base`: 모델을 한 번 실행하고 이 실행 중에 실제로 실행된 연산자를 내보내는 방식으로 작동\n",
    "    - 모델이 동적인 경우(입력 데이터에 따라 동작이 변경되는 경우) export가 정확하지 않음.\n",
    "    - 특정 입력 크기에 대해서만 유효 (trace시 명시적 입력이 필요한 이유)\n",
    "    - 모델에 for loop, if condition과 같은 제어 흐름이 포함된 경우, loop를 풀고 if condition은 처음과 동일한 `정적 그래프`를 내보냄\n",
    "    - 동적 제어 흐름을 사용하려면 Script 기반 export를 사용해야 함\n",
    "- `Script-base`: 내보내려는 모델이 `ScriptModule`.\n",
    "    - pytorch 코드에서 직렬화 및 최적화 가능한 모델을 생성하는 python 언어의 하위 집합"
   ]
  },
  {
   "cell_type": "markdown",
   "metadata": {},
   "source": [
    "`trace-based exporter`, for loop이 풀린 ONNX Graph를 얻음"
   ]
  },
  {
   "cell_type": "code",
   "execution_count": 1,
   "metadata": {},
   "outputs": [
    {
     "name": "stdout",
     "output_type": "stream",
     "text": [
      "graph(%0 : Long(2:3, 3:1, requires_grad=0, device=cpu)):\n",
      "  %2 : Long(requires_grad=0, device=cpu) = onnx::Constant[value={0}]()\n",
      "  %3 : Long(2:3, 3:1, requires_grad=0, device=cpu) = onnx::Add(%0, %2)\n",
      "  %4 : Long(requires_grad=0, device=cpu) = onnx::Constant[value={1}]()\n",
      "  %5 : Long(2:3, 3:1, requires_grad=0, device=cpu) = onnx::Add(%3, %4)\n",
      "  %6 : Long(requires_grad=0, device=cpu) = onnx::Constant[value={2}]()\n",
      "  %7 : Long(2:3, 3:1, requires_grad=0, device=cpu) = onnx::Add(%5, %6)\n",
      "  %8 : Long(requires_grad=0, device=cpu) = onnx::Constant[value={3}]()\n",
      "  %9 : Long(2:3, 3:1, requires_grad=0, device=cpu) = onnx::Add(%7, %8)\n",
      "  %10 : Long(requires_grad=0, device=cpu) = onnx::Constant[value={4}]()\n",
      "  %11 : Long(2:3, 3:1, requires_grad=0, device=cpu) = onnx::Add(%9, %10)\n",
      "  return (%11)\n",
      "\n"
     ]
    },
    {
     "name": "stderr",
     "output_type": "stream",
     "text": [
      "C:\\Users\\jinma\\AppData\\Local\\Continuum\\anaconda3\\envs\\basic\\lib\\site-packages\\ipykernel_launcher.py:7: TracerWarning: Converting a tensor to a Python index might cause the trace to be incorrect. We can't record the data flow of Python values, so this value will be treated as a constant in the future. This means that the trace might not generalize to other inputs!\n",
      "  import sys\n"
     ]
    }
   ],
   "source": [
    "import torch\n",
    "\n",
    "# Trace-based only\n",
    "\n",
    "class LoopModel(torch.nn.Module):\n",
    "    def forward(self, x, y):\n",
    "        for i in range(y):\n",
    "            x = x + i\n",
    "        return x\n",
    "\n",
    "model = LoopModel()\n",
    "dummy_input = torch.ones(2, 3, dtype=torch.long)\n",
    "loop_count = torch.tensor(5, dtype=torch.long)\n",
    "\n",
    "torch.onnx.export(model, (dummy_input, loop_count), 'loop.onnx', verbose=True)"
   ]
  },
  {
   "cell_type": "markdown",
   "metadata": {},
   "source": [
    "동적 loop을 포착하기 위해 `script-based exporter`를 사용하여 일반 nn.Module처럼 호출할 수 있음"
   ]
  },
  {
   "cell_type": "code",
   "execution_count": 3,
   "metadata": {},
   "outputs": [
    {
     "name": "stdout",
     "output_type": "stream",
     "text": [
      "graph(%input_data : Long(2:3, 3:1, requires_grad=0, device=cpu),\n",
      "      %loop_range : Long(requires_grad=0, device=cpu),\n",
      "      %10 : Bool(requires_grad=0, device=cpu)):\n",
      "  %2 : Long(requires_grad=0, device=cpu) = onnx::Constant[value={1}]()\n",
      "  %4 : Long(2:3, 3:1, requires_grad=0, device=cpu) = onnx::Loop(%loop_range, %10, %input_data) # <ipython-input-3-e5e16e1b7555>:5:4\n",
      "    block0(%i.1 : Long(device=cpu), %cond : bool, %x.6 : Long(2:3, 3:1, requires_grad=0, device=cpu)):\n",
      "      %8 : LongTensor = onnx::Add(%x.6, %i.1) # <ipython-input-3-e5e16e1b7555>:6:12\n",
      "      %9 : bool = onnx::Cast[to=9](%2)\n",
      "      -> (%9, %8)\n",
      "  return (%4)\n",
      "\n"
     ]
    }
   ],
   "source": [
    "# Mixing tracing and scripting\n",
    "\n",
    "@torch.jit.script\n",
    "def loop(x, y):\n",
    "    for i in range(int(y)):\n",
    "        x = x + i\n",
    "    return x\n",
    "\n",
    "class LoopModel2(torch.nn.Module):\n",
    "    def forward(self, x, y):\n",
    "        return loop(x, y)\n",
    "\n",
    "model = LoopModel2()\n",
    "dummy_input = torch.ones(2, 3, dtype=torch.long)\n",
    "loop_count = torch.tensor(5, dtype=torch.long)\n",
    "torch.onnx.export(model, (dummy_input, loop_count), 'loop.onnx', verbose=True,\n",
    "                  input_names=['input_data', 'loop_range'])"
   ]
  },
  {
   "cell_type": "markdown",
   "metadata": {},
   "source": [
    "위는 동적 흐름 제어가 정확히 포착됨. 아래 예제로 확인해보자"
   ]
  },
  {
   "cell_type": "code",
   "execution_count": null,
   "metadata": {},
   "outputs": [],
   "source": [
    "import caffe2.python.onnx.backend as backend\n",
    "import numpy as np\n",
    "import onnx\n",
    "model = onnx.load('loop.onnx')\n",
    "\n",
    "rep = backend.prepare(model)\n",
    "outputs = rep.run((dummy_input.numpy(), np.array(9).astype(np.int64)))\n",
    "print(outputs[0])\n",
    "#[[37 37 37]\n",
    "# [37 37 37]]\n",
    "\n",
    "\n",
    "import onnxruntime as ort\n",
    "ort_sess = ort.InferenceSession('loop.onnx')\n",
    "outputs = ort_sess.run(None, {'input_data': dummy_input.numpy(),\n",
    "                              'loop_range': np.array(9).astype(np.int64)})\n",
    "print(outputs)\n",
    "#[array([[37, 37, 37],\n",
    "#       [37, 37, 37]], dtype=int64)]"
   ]
  },
  {
   "cell_type": "code",
   "execution_count": null,
   "metadata": {},
   "outputs": [],
   "source": [
    "class Module(torch.nn.Module):\n",
    "    def forward(self, x, tup):\n",
    "        # type: (int, Tuple[Tensor, Tensor]) -> Tensor\n",
    "        t0, t1 = tup\n",
    "        return t0 + t1 + x\n",
    "\n",
    "model = LoopModel2()\n",
    "torch.onnx.export(model, (dummy_input, loop_count), 'loop.onnx', verbose=True,\n",
    "                  input_names=['input_data', 'loop_range'])"
   ]
  }
 ],
 "metadata": {
  "kernelspec": {
   "display_name": "basic",
   "language": "python",
   "name": "basic"
  },
  "language_info": {
   "codemirror_mode": {
    "name": "ipython",
    "version": 3
   },
   "file_extension": ".py",
   "mimetype": "text/x-python",
   "name": "python",
   "nbconvert_exporter": "python",
   "pygments_lexer": "ipython3",
   "version": "3.6.9"
  }
 },
 "nbformat": 4,
 "nbformat_minor": 4
}
