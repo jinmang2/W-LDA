{
 "cells": [
  {
   "cell_type": "code",
   "execution_count": 1,
   "metadata": {},
   "outputs": [],
   "source": [
    "import mxnet as mx\n",
    "from mxnet import gluon\n",
    "from mxnet.gluon import nn\n",
    "\n",
    "mx.random.seed(42)\n",
    "\n",
    "class Net(gluon.HybridBlock):\n",
    "    def __init__(self, **kwargs):\n",
    "        super(Net, self).__init__(**kwargs)\n",
    "        with self.name_scope():\n",
    "            # layers created in name_scope will inherit name space\n",
    "            # from parent layer.\n",
    "            self.conv1 = nn.Conv2D(6, kernel_size=5)\n",
    "            self.pool1 = nn.MaxPool2D(pool_size=2)\n",
    "            self.conv2 = nn.Conv2D(16, kernel_size=5)\n",
    "            self.pool2 = nn.MaxPool2D(pool_size=2)\n",
    "            self.fc1 = nn.Dense(120)\n",
    "            self.fc2 = nn.Dense(84)\n",
    "            # You can use a Dense layer for fc3 but we do dot product manually\n",
    "            # here for illustration purposes.\n",
    "            self.fc3_weight = self.params.get('fc3_weight', shape=(10, 84))\n",
    "\n",
    "    def hybrid_forward(self, F, x, fc3_weight):\n",
    "        # Here `F` can be either mx.nd or mx.sym, x is the input data,\n",
    "        # and fc3_weight is either self.fc3_weight.data() or\n",
    "        # self.fc3_weight.var() depending on whether x is Symbol or NDArray\n",
    "        print(x)\n",
    "        x = self.pool1(F.relu(self.conv1(x)))\n",
    "        x = self.pool2(F.relu(self.conv2(x)))\n",
    "        # 0 means copy over size from corresponding dimension.\n",
    "        # -1 means infer size from the rest of dimensions.\n",
    "        x = x.reshape((0, -1))\n",
    "        x = F.relu(self.fc1(x))\n",
    "        x = F.relu(self.fc2(x))\n",
    "        x = F.dot(x, fc3_weight, transpose_b=True)\n",
    "        return x"
   ]
  },
  {
   "cell_type": "code",
   "execution_count": 2,
   "metadata": {},
   "outputs": [],
   "source": [
    "net = Net()"
   ]
  },
  {
   "cell_type": "code",
   "execution_count": 3,
   "metadata": {},
   "outputs": [
    {
     "data": {
      "text/plain": [
       "OrderedDict([('conv1', Conv2D(None -> 6, kernel_size=(5, 5), stride=(1, 1))),\n",
       "             ('pool1',\n",
       "              MaxPool2D(size=(2, 2), stride=(2, 2), padding=(0, 0), ceil_mode=False, global_pool=False, pool_type=max, layout=NCHW)),\n",
       "             ('conv2', Conv2D(None -> 16, kernel_size=(5, 5), stride=(1, 1))),\n",
       "             ('pool2',\n",
       "              MaxPool2D(size=(2, 2), stride=(2, 2), padding=(0, 0), ceil_mode=False, global_pool=False, pool_type=max, layout=NCHW)),\n",
       "             ('fc1', Dense(None -> 120, linear)),\n",
       "             ('fc2', Dense(None -> 84, linear))])"
      ]
     },
     "execution_count": 3,
     "metadata": {},
     "output_type": "execute_result"
    }
   ],
   "source": [
    "net._children"
   ]
  },
  {
   "cell_type": "code",
   "execution_count": 4,
   "metadata": {},
   "outputs": [
    {
     "data": {
      "text/plain": [
       "{'fc3_weight': Parameter net0_fc3_weight (shape=(10, 84), dtype=<class 'numpy.float32'>)}"
      ]
     },
     "execution_count": 4,
     "metadata": {},
     "output_type": "execute_result"
    }
   ],
   "source": [
    "net._reg_params"
   ]
  },
  {
   "cell_type": "code",
   "execution_count": 5,
   "metadata": {},
   "outputs": [
    {
     "data": {
      "text/plain": [
       "[]"
      ]
     },
     "execution_count": 5,
     "metadata": {},
     "output_type": "execute_result"
    }
   ],
   "source": [
    "net._flags"
   ]
  },
  {
   "cell_type": "code",
   "execution_count": 6,
   "metadata": {},
   "outputs": [
    {
     "data": {
      "text/plain": [
       "()"
      ]
     },
     "execution_count": 6,
     "metadata": {},
     "output_type": "execute_result"
    }
   ],
   "source": [
    "net._cached_graph"
   ]
  },
  {
   "cell_type": "code",
   "execution_count": 7,
   "metadata": {},
   "outputs": [],
   "source": [
    "net._cached_op"
   ]
  },
  {
   "cell_type": "code",
   "execution_count": 8,
   "metadata": {},
   "outputs": [],
   "source": [
    "net.initialize()"
   ]
  },
  {
   "cell_type": "code",
   "execution_count": 9,
   "metadata": {},
   "outputs": [],
   "source": [
    "x = mx.nd.random_normal(shape=(16, 1, 28, 28))"
   ]
  },
  {
   "cell_type": "code",
   "execution_count": 10,
   "metadata": {
    "scrolled": true
   },
   "outputs": [
    {
     "name": "stdout",
     "output_type": "stream",
     "text": [
      "\n",
      "[[[[-1.32751155e+00 -3.21425800e-03  2.21258700e-01 ... -9.93653476e-01\n",
      "     7.21561074e-01  2.13800624e-01]\n",
      "   [-1.15573585e-01 -6.79732859e-01 -3.19358349e-01 ...  9.27734792e-01\n",
      "     7.16477394e-01 -1.62013519e+00]\n",
      "   [-1.20223366e-01  1.80030048e+00 -8.33329916e-01 ...  7.20802903e-01\n",
      "    -8.19966644e-02  1.31949830e+00]\n",
      "   ...\n",
      "   [-7.68818617e-01 -2.06548309e+00 -1.54131448e+00 ... -5.70446610e-01\n",
      "    -2.37787798e-01 -1.11657321e+00]\n",
      "   [ 1.02199569e-01 -7.87420928e-01  4.67959344e-01 ...  1.08413196e+00\n",
      "     8.50915074e-01  7.07204640e-01]\n",
      "   [ 1.55082130e+00  8.45636368e-01  3.37201893e-01 ...  1.57013047e+00\n",
      "    -7.40349710e-01  1.78594506e+00]]]\n",
      "\n",
      "\n",
      " [[[-5.39527774e-01 -1.09334636e+00 -6.54727042e-01 ... -1.39392352e+00\n",
      "     1.61527574e+00 -9.38860178e-01]\n",
      "   [-1.80605817e+00 -2.46331286e+00  1.28754568e+00 ...  7.73943901e-01\n",
      "    -2.16658860e-01 -1.13087308e+00]\n",
      "   [-1.19116390e+00 -7.51096904e-01 -4.72258389e-01 ... -1.43151629e+00\n",
      "     4.19944555e-01  4.37604368e-01]\n",
      "   ...\n",
      "   [ 1.31023467e-01  1.41037107e-01 -1.99817967e+00 ...  7.19488084e-01\n",
      "     4.10646290e-01 -8.85071218e-01]\n",
      "   [ 3.50399792e-01 -5.46077847e-01 -4.97124374e-01 ... -2.74739638e-02\n",
      "    -1.11743331e+00 -5.73925853e-01]\n",
      "   [ 9.68801558e-01  3.83423328e-01  7.49606729e-01 ... -9.72107351e-01\n",
      "     1.16701007e+00 -2.56324768e+00]]]\n",
      "\n",
      "\n",
      " [[[-7.06585467e-01  6.03997111e-01 -1.91710055e+00 ... -5.32136023e-01\n",
      "     2.78962284e-01 -1.07683027e+00]\n",
      "   [-7.19223738e-01  2.68086307e-02 -1.81508541e-01 ... -7.93511033e-01\n",
      "    -1.78323314e-01 -3.17586362e-01]\n",
      "   [ 1.16076040e+00  1.23420041e-02 -5.58999836e-01 ... -5.40674068e-02\n",
      "    -3.01207155e-01  5.78975737e-01]\n",
      "   ...\n",
      "   [ 1.97811529e-01  1.33728492e+00 -1.31949639e+00 ...  6.35414779e-01\n",
      "    -2.70131469e-01 -2.34102011e-01]\n",
      "   [-2.77481556e-01  1.41566157e+00 -1.29490590e+00 ... -1.90156445e-01\n",
      "     7.51360297e-01 -1.22065091e+00]\n",
      "   [ 1.88254881e+00  4.98087168e-01  3.24097097e-01 ... -7.44802803e-02\n",
      "     3.24537110e+00 -1.02238953e+00]]]\n",
      "\n",
      "\n",
      " ...\n",
      "\n",
      "\n",
      " [[[-1.74088252e+00  1.01743889e+00  4.52455997e-01 ... -9.80677247e-01\n",
      "    -8.26097608e-01 -7.94643462e-01]\n",
      "   [-4.33688432e-01 -9.53361511e-01  1.06141591e+00 ...  1.29362988e+00\n",
      "     2.49806389e-01  1.00708365e+00]\n",
      "   [ 1.13840199e+00  5.50403856e-02 -5.49118876e-01 ... -5.46384342e-02\n",
      "    -1.15117013e+00  3.27584922e-01]\n",
      "   ...\n",
      "   [ 5.64160407e-01  1.62076616e+00  3.30286175e-02 ... -5.51333427e-01\n",
      "    -1.47523627e-01 -5.05940378e-01]\n",
      "   [ 1.25469530e+00  6.99127078e-01 -8.11450303e-01 ...  6.12317145e-01\n",
      "     4.89371270e-02 -8.18669736e-01]\n",
      "   [-3.67122471e-01 -5.37982821e-01 -4.07667458e-02 ...  4.22148287e-01\n",
      "    -2.26885781e-01 -3.27020139e-01]]]\n",
      "\n",
      "\n",
      " [[[-5.84071159e-01  1.34284294e+00 -3.16188663e-01 ...  2.03865752e-01\n",
      "     1.14129496e+00  5.14430627e-02]\n",
      "   [ 2.54481047e-01 -1.11851406e+00 -9.95983899e-01 ... -1.82793665e+00\n",
      "    -5.10478735e-01  9.06768143e-01]\n",
      "   [ 1.12027776e+00  1.29212096e-01  9.52486515e-01 ...  6.95656180e-01\n",
      "     2.05917788e+00  9.78042781e-01]\n",
      "   ...\n",
      "   [ 1.09663439e+00  2.02554628e-01 -7.75820136e-01 ... -2.88992614e-01\n",
      "    -3.02543461e-01 -5.24529994e-01]\n",
      "   [-4.83825803e-01  1.67512849e-01  2.02443314e+00 ...  6.40990213e-02\n",
      "    -5.23459554e-01 -1.75313532e+00]\n",
      "   [-6.08232260e-01 -4.11131978e-01  6.22500241e-01 ...  6.33773863e-01\n",
      "    -1.34141997e-01 -9.90298688e-01]]]\n",
      "\n",
      "\n",
      " [[[ 1.97142398e+00 -6.92768276e-01 -1.96160102e+00 ...  2.16735744e+00\n",
      "     2.22427464e+00 -5.85501373e-01]\n",
      "   [ 1.43652201e+00  3.20628658e-02 -1.78445742e-01 ... -8.02540123e-01\n",
      "    -1.18586028e+00  1.98213086e-02]\n",
      "   [-1.68497777e+00  1.42333865e-01  9.37151670e-01 ...  3.14203322e-01\n",
      "    -2.24567342e+00  1.37878090e-01]\n",
      "   ...\n",
      "   [ 1.54881657e-03 -2.16627061e-01 -1.54606330e+00 ...  2.58343071e-01\n",
      "    -8.51283550e-01  7.42848098e-01]\n",
      "   [-1.13382065e+00  3.51246834e-01  2.10754678e-01 ... -9.48228613e-02\n",
      "     3.01142603e-01 -9.14036334e-02]\n",
      "   [-5.72087824e-01 -4.26965028e-01 -2.84505755e-01 ...  1.54592559e-01\n",
      "     8.54579031e-01 -1.44272111e-02]]]]\n",
      "<NDArray 16x1x28x28 @cpu(0)>\n"
     ]
    },
    {
     "data": {
      "text/plain": [
       "\n",
       "[[-2.3739152e-03  1.2288181e-03 -2.6196400e-03  1.7307401e-02\n",
       "   1.3160441e-03 -1.1935915e-03  9.0257125e-03 -3.4432653e-03\n",
       "   6.9268309e-03 -2.5144888e-03]\n",
       " [-1.4261892e-03  2.8535747e-03  7.0181466e-04  1.1935305e-02\n",
       "   2.3925959e-03 -1.1124604e-03  5.5938973e-03 -1.5007076e-03\n",
       "   5.9103300e-03 -4.1204025e-03]\n",
       " [-2.0689422e-03  2.8114044e-03 -2.5111223e-03  1.9862700e-02\n",
       "   1.7765041e-03 -7.0621585e-04  8.7961880e-03 -1.3219281e-03\n",
       "   7.7348771e-03 -4.3676980e-03]\n",
       " [ 8.9091738e-04  3.9138813e-03 -8.1995809e-03  1.5244451e-02\n",
       "  -1.2768649e-03 -6.1824790e-04  9.6626244e-03 -3.7912414e-03\n",
       "   7.6066726e-03 -4.3306183e-03]\n",
       " [-4.9248966e-04  1.2496498e-03 -7.8753149e-04  1.5128225e-02\n",
       "  -1.2085200e-03 -1.0806179e-03  8.5483445e-03 -1.0144414e-03\n",
       "   2.2771757e-03 -1.7787039e-04]\n",
       " [ 2.1468885e-03  2.0143101e-03 -1.8229801e-03  1.7467944e-02\n",
       "  -2.2699921e-03 -4.8990070e-05  1.0768503e-02  4.2958197e-04\n",
       "   3.4390155e-03 -1.4848784e-03]\n",
       " [-4.3142017e-04  2.1216008e-03 -1.1781133e-03  1.2875386e-02\n",
       "   9.8541554e-04 -1.2953699e-03  7.2558085e-03 -2.1152203e-03\n",
       "   5.4194159e-03 -3.5371324e-03]\n",
       " [-2.7683792e-03  1.1483837e-03 -2.9119148e-03  1.6915025e-02\n",
       "  -1.0688081e-03 -4.8324169e-04  8.6780032e-03 -1.5204606e-03\n",
       "   5.7599284e-03 -4.4399011e-03]\n",
       " [ 9.8035112e-04  1.3037821e-03 -2.9731644e-03  1.3796692e-02\n",
       "  -1.8002033e-03 -2.5887159e-03  8.9583769e-03 -2.3423403e-03\n",
       "   2.6722539e-03 -1.5424609e-03]\n",
       " [-1.2357919e-03  1.5555897e-03 -3.1001288e-03  1.6970964e-02\n",
       "   4.8349611e-05 -2.3719864e-03  6.9375122e-03 -2.9493372e-03\n",
       "   5.9032585e-03  3.0218810e-04]\n",
       " [-4.1259290e-03  1.3868810e-03 -2.8819568e-03  1.4616394e-02\n",
       "   1.4851945e-03  1.8653315e-03  9.6436208e-03 -2.9456469e-03\n",
       "   6.9392924e-03 -4.4269199e-03]\n",
       " [-5.3869269e-04  4.3109488e-03  3.7220301e-04  1.3300670e-02\n",
       "   6.9685397e-04 -2.6444235e-04  7.3996475e-03  1.2930009e-03\n",
       "   2.9503556e-03 -1.5326499e-03]\n",
       " [-1.2677236e-04  1.1708060e-03 -2.5324207e-03  1.2739913e-02\n",
       "  -7.8893779e-04 -3.4254006e-04  5.5560758e-03 -1.1665368e-03\n",
       "   3.7081719e-03 -1.6844393e-03]\n",
       " [-2.8390228e-03  7.5715659e-03 -1.8995174e-03  1.3530028e-02\n",
       "   1.3733576e-03 -8.8542484e-04  4.8534018e-03  1.2656103e-03\n",
       "   6.9848220e-03 -3.3430681e-03]\n",
       " [-1.6802648e-03  4.4604158e-03  2.0635691e-03  1.8444166e-02\n",
       "   2.0446642e-03  5.6091382e-04  9.9718357e-03 -4.8175277e-03\n",
       "   4.7423528e-03 -2.5533531e-03]\n",
       " [ 1.2404111e-04  3.4628273e-03 -5.2165054e-03  1.7798869e-02\n",
       "   1.3853423e-07  8.0561731e-04  1.1652609e-02 -4.0031010e-03\n",
       "   5.4910323e-03 -3.9210543e-03]]\n",
       "<NDArray 16x10 @cpu(0)>"
      ]
     },
     "execution_count": 10,
     "metadata": {},
     "output_type": "execute_result"
    }
   ],
   "source": [
    "net(x)"
   ]
  },
  {
   "cell_type": "code",
   "execution_count": 11,
   "metadata": {},
   "outputs": [
    {
     "data": {
      "text/plain": [
       "[]"
      ]
     },
     "execution_count": 11,
     "metadata": {},
     "output_type": "execute_result"
    }
   ],
   "source": [
    "net._flags"
   ]
  },
  {
   "cell_type": "code",
   "execution_count": 12,
   "metadata": {},
   "outputs": [
    {
     "data": {
      "text/plain": [
       "()"
      ]
     },
     "execution_count": 12,
     "metadata": {},
     "output_type": "execute_result"
    }
   ],
   "source": [
    "net._cached_graph"
   ]
  },
  {
   "cell_type": "code",
   "execution_count": 13,
   "metadata": {},
   "outputs": [],
   "source": [
    "net._cached_op"
   ]
  },
  {
   "cell_type": "code",
   "execution_count": 14,
   "metadata": {
    "scrolled": true
   },
   "outputs": [],
   "source": [
    "net.hybridize()"
   ]
  },
  {
   "cell_type": "code",
   "execution_count": 21,
   "metadata": {},
   "outputs": [],
   "source": [
    "from mxnet.gluon.block import _flatten"
   ]
  },
  {
   "cell_type": "code",
   "execution_count": 40,
   "metadata": {},
   "outputs": [],
   "source": [
    "def t(*args):\n",
    "    return args"
   ]
  },
  {
   "cell_type": "code",
   "execution_count": 41,
   "metadata": {},
   "outputs": [
    {
     "data": {
      "text/plain": [
       "[0]"
      ]
     },
     "execution_count": 41,
     "metadata": {},
     "output_type": "execute_result"
    }
   ],
   "source": [
    "_, fmt = _flatten(t(x), \"input\")\n",
    "fmt"
   ]
  },
  {
   "cell_type": "code",
   "execution_count": 28,
   "metadata": {},
   "outputs": [
    {
     "data": {
      "text/plain": [
       "[0]"
      ]
     },
     "execution_count": 28,
     "metadata": {},
     "output_type": "execute_result"
    }
   ],
   "source": [
    "net._in_format"
   ]
  },
  {
   "cell_type": "markdown",
   "metadata": {},
   "source": [
    "forward -> _call_cached_op -> _build_cache -> _flatten -> ..."
   ]
  },
  {
   "cell_type": "code",
   "execution_count": 15,
   "metadata": {},
   "outputs": [
    {
     "data": {
      "text/plain": [
       "True"
      ]
     },
     "execution_count": 15,
     "metadata": {},
     "output_type": "execute_result"
    }
   ],
   "source": [
    "net._active"
   ]
  },
  {
   "cell_type": "code",
   "execution_count": 16,
   "metadata": {},
   "outputs": [
    {
     "data": {
      "text/plain": [
       "True"
      ]
     },
     "execution_count": 16,
     "metadata": {},
     "output_type": "execute_result"
    }
   ],
   "source": [
    "net._cached_op is None"
   ]
  },
  {
   "cell_type": "code",
   "execution_count": 17,
   "metadata": {},
   "outputs": [],
   "source": [
    "from mxnet.symbol import Symbol\n",
    "from mxnet.ndarray import NDArray\n",
    "\n",
    "\n",
    "def _flatten(args, inout_str):\n",
    "    if isinstance(args, NDArray):\n",
    "        return [args], int(0)\n",
    "    if isinstance(args, Symbol):\n",
    "        length = len(args.list_outputs())\n",
    "        length = length if length > 1 else 0\n",
    "        return [args], int(length)\n",
    "\n",
    "    assert isinstance(args, (list, tuple)), \\\n",
    "        \"HybridBlock %s must be (nested) list of Symbol or NDArray, \" \\\n",
    "        \"but got %s of type %s\"%(inout_str, str(args), str(type(args)))\n",
    "    flat = []\n",
    "    fmts = []\n",
    "    for i in args:\n",
    "        arg, fmt = _flatten(i, inout_str)\n",
    "        flat.extend(arg)\n",
    "        fmts.append(fmt)\n",
    "    return flat, fmts"
   ]
  },
  {
   "cell_type": "code",
   "execution_count": 18,
   "metadata": {},
   "outputs": [],
   "source": [
    "from mxnet import symbol"
   ]
  },
  {
   "cell_type": "code",
   "execution_count": 19,
   "metadata": {},
   "outputs": [],
   "source": [
    "def _regroup(args, fmt):\n",
    "    if isinstance(fmt, int):\n",
    "        if fmt == 0:\n",
    "            return args[0], args[1:]\n",
    "        return args[:fmt], args[fmt:]\n",
    "\n",
    "    assert isinstance(args, (list, tuple)), \\\n",
    "        \"HybridBlock output must be (nested) list of Symbol or NDArray, \" \\\n",
    "        \"but got %s of type %s\"%(str(args), str(type(args)))\n",
    "    ret = []\n",
    "    for i in fmt:\n",
    "        res, args = _regroup(args, i)\n",
    "        ret.append(res)\n",
    "    return ret, args"
   ]
  },
  {
   "cell_type": "code",
   "execution_count": 20,
   "metadata": {},
   "outputs": [
    {
     "name": "stdout",
     "output_type": "stream",
     "text": [
      "True\n",
      "True\n",
      "1 (16, 1, 28, 28)\n",
      "0\n",
      "[<Symbol data>]\n",
      "<Symbol data>\n",
      "{'fc3_weight': <Symbol net0_fc3_weight>}\n",
      "<Symbol data>\n",
      "[<Symbol net0_dot0>] 0\n",
      "([<Symbol data>], <Symbol net0_dot0>)\n"
     ]
    }
   ],
   "source": [
    "# data, out = net._get_graph(x)\n",
    "# data, out\n",
    "\n",
    "print(not net._cached_graph)\n",
    "print(net._in_format is None)\n",
    "\n",
    "args, net._in_format= _flatten(x, \"input\")\n",
    "print(len(args), args[0].shape)\n",
    "print(net._in_format)\n",
    "\n",
    "inputs = [symbol.var(\"data\")]\n",
    "print(inputs)\n",
    "\n",
    "grouped_inputs = _regroup(inputs, net._in_format)[0]\n",
    "print(grouped_inputs)\n",
    "\n",
    "params = {i: j.var() for i, j in net._reg_params.items()}\n",
    "print(params)\n",
    "\n",
    "with net.name_scope():\n",
    "    out = net.hybrid_forward(symbol, *grouped_inputs, **params)\n",
    "    \n",
    "out, net._out_format = _flatten(out, \"output\")\n",
    "print(out, net._out_format)\n",
    "\n",
    "net._cached_graph = inputs, symbol.Group(out)\n",
    "print(net._cached_graph)"
   ]
  },
  {
   "cell_type": "code",
   "execution_count": 21,
   "metadata": {},
   "outputs": [
    {
     "data": {
      "text/plain": [
       "[<Symbol data>]"
      ]
     },
     "execution_count": 21,
     "metadata": {},
     "output_type": "execute_result"
    }
   ],
   "source": [
    "inputs"
   ]
  },
  {
   "cell_type": "code",
   "execution_count": 22,
   "metadata": {},
   "outputs": [
    {
     "data": {
      "text/plain": [
       "0"
      ]
     },
     "execution_count": 22,
     "metadata": {},
     "output_type": "execute_result"
    }
   ],
   "source": [
    "net._in_format"
   ]
  },
  {
   "cell_type": "code",
   "execution_count": 23,
   "metadata": {},
   "outputs": [
    {
     "data": {
      "text/plain": [
       "<Symbol data>"
      ]
     },
     "execution_count": 23,
     "metadata": {},
     "output_type": "execute_result"
    }
   ],
   "source": [
    "grouped_inputs"
   ]
  },
  {
   "cell_type": "code",
   "execution_count": 24,
   "metadata": {},
   "outputs": [],
   "source": [
    "data, out = net._cached_graph"
   ]
  },
  {
   "cell_type": "code",
   "execution_count": 25,
   "metadata": {},
   "outputs": [
    {
     "data": {
      "text/plain": [
       "([<Symbol data>], <Symbol net0_dot0>)"
      ]
     },
     "execution_count": 25,
     "metadata": {},
     "output_type": "execute_result"
    }
   ],
   "source": [
    "data, out"
   ]
  },
  {
   "cell_type": "code",
   "execution_count": 26,
   "metadata": {},
   "outputs": [
    {
     "data": {
      "text/plain": [
       "{'data': 0}"
      ]
     },
     "execution_count": 26,
     "metadata": {},
     "output_type": "execute_result"
    }
   ],
   "source": [
    "data_names = {data.name: i for i, data in enumerate(data)}\n",
    "data_names"
   ]
  },
  {
   "cell_type": "code",
   "execution_count": 27,
   "metadata": {},
   "outputs": [
    {
     "data": {
      "text/plain": [
       "net0_ (\n",
       "  Parameter net0_fc3_weight (shape=(10, 84), dtype=<class 'numpy.float32'>)\n",
       "  Parameter net0_conv0_weight (shape=(6, 1, 5, 5), dtype=<class 'numpy.float32'>)\n",
       "  Parameter net0_conv0_bias (shape=(6,), dtype=<class 'numpy.float32'>)\n",
       "  Parameter net0_conv1_weight (shape=(16, 6, 5, 5), dtype=<class 'numpy.float32'>)\n",
       "  Parameter net0_conv1_bias (shape=(16,), dtype=<class 'numpy.float32'>)\n",
       "  Parameter net0_dense0_weight (shape=(120, 256), dtype=float32)\n",
       "  Parameter net0_dense0_bias (shape=(120,), dtype=float32)\n",
       "  Parameter net0_dense1_weight (shape=(84, 120), dtype=float32)\n",
       "  Parameter net0_dense1_bias (shape=(84,), dtype=float32)\n",
       ")"
      ]
     },
     "execution_count": 27,
     "metadata": {},
     "output_type": "execute_result"
    }
   ],
   "source": [
    "params = net.collect_params()\n",
    "params"
   ]
  },
  {
   "cell_type": "code",
   "execution_count": 28,
   "metadata": {},
   "outputs": [
    {
     "data": {
      "text/plain": [
       "['data',\n",
       " 'net0_conv0_weight',\n",
       " 'net0_conv0_bias',\n",
       " 'net0_conv1_weight',\n",
       " 'net0_conv1_bias',\n",
       " 'net0_dense0_weight',\n",
       " 'net0_dense0_bias',\n",
       " 'net0_dense1_weight',\n",
       " 'net0_dense1_bias',\n",
       " 'net0_fc3_weight']"
      ]
     },
     "execution_count": 28,
     "metadata": {},
     "output_type": "execute_result"
    }
   ],
   "source": [
    "input_names = out.list_inputs()\n",
    "input_names"
   ]
  },
  {
   "cell_type": "code",
   "execution_count": 31,
   "metadata": {},
   "outputs": [
    {
     "data": {
      "text/plain": [
       "{'net0_conv0_bias',\n",
       " 'net0_conv0_weight',\n",
       " 'net0_conv1_bias',\n",
       " 'net0_conv1_weight',\n",
       " 'net0_dense0_bias',\n",
       " 'net0_dense0_weight',\n",
       " 'net0_dense1_bias',\n",
       " 'net0_dense1_weight',\n",
       " 'net0_fc3_weight'}"
      ]
     },
     "execution_count": 31,
     "metadata": {},
     "output_type": "execute_result"
    }
   ],
   "source": [
    "param_names = set(params.keys())\n",
    "param_names"
   ]
  },
  {
   "cell_type": "code",
   "execution_count": 32,
   "metadata": {},
   "outputs": [
    {
     "data": {
      "text/plain": [
       "{'data',\n",
       " 'net0_conv0_bias',\n",
       " 'net0_conv0_weight',\n",
       " 'net0_conv1_bias',\n",
       " 'net0_conv1_weight',\n",
       " 'net0_dense0_bias',\n",
       " 'net0_dense0_weight',\n",
       " 'net0_dense1_bias',\n",
       " 'net0_dense1_weight',\n",
       " 'net0_fc3_weight'}"
      ]
     },
     "execution_count": 32,
     "metadata": {},
     "output_type": "execute_result"
    }
   ],
   "source": [
    "expected_names = set(input_names)\n",
    "expected_names"
   ]
  },
  {
   "cell_type": "code",
   "execution_count": 33,
   "metadata": {},
   "outputs": [
    {
     "data": {
      "text/plain": [
       "['data']"
      ]
     },
     "execution_count": 33,
     "metadata": {},
     "output_type": "execute_result"
    }
   ],
   "source": [
    "used_data_names = [i for i in data_names if i in expected_names]\n",
    "used_data_names"
   ]
  },
  {
   "cell_type": "code",
   "execution_count": 34,
   "metadata": {},
   "outputs": [
    {
     "data": {
      "text/plain": [
       "False"
      ]
     },
     "execution_count": 34,
     "metadata": {},
     "output_type": "execute_result"
    }
   ],
   "source": [
    "len(used_data_names) != len(data_names)"
   ]
  },
  {
   "cell_type": "code",
   "execution_count": 35,
   "metadata": {},
   "outputs": [
    {
     "data": {
      "text/plain": [
       "['net0_conv0_weight',\n",
       " 'net0_conv0_bias',\n",
       " 'net0_conv1_weight',\n",
       " 'net0_conv1_bias',\n",
       " 'net0_dense1_weight',\n",
       " 'net0_dense0_weight',\n",
       " 'net0_dense1_bias',\n",
       " 'net0_fc3_weight',\n",
       " 'net0_dense0_bias']"
      ]
     },
     "execution_count": 35,
     "metadata": {},
     "output_type": "execute_result"
    }
   ],
   "source": [
    "used_param_names = [i for i in param_names if i in expected_names]\n",
    "used_param_names"
   ]
  },
  {
   "cell_type": "code",
   "execution_count": 36,
   "metadata": {},
   "outputs": [
    {
     "data": {
      "text/plain": [
       "False"
      ]
     },
     "execution_count": 36,
     "metadata": {},
     "output_type": "execute_result"
    }
   ],
   "source": [
    "len(used_param_names) != len(param_names)"
   ]
  },
  {
   "cell_type": "code",
   "execution_count": 37,
   "metadata": {},
   "outputs": [],
   "source": [
    "data_indices = []\n",
    "param_indices = []\n",
    "net._cached_op_args = []"
   ]
  },
  {
   "cell_type": "code",
   "execution_count": 38,
   "metadata": {},
   "outputs": [
    {
     "data": {
      "text/plain": [
       "[(True, 0),\n",
       " (False,\n",
       "  Parameter net0_conv0_weight (shape=(6, 1, 5, 5), dtype=<class 'numpy.float32'>)),\n",
       " (False,\n",
       "  Parameter net0_conv0_bias (shape=(6,), dtype=<class 'numpy.float32'>)),\n",
       " (False,\n",
       "  Parameter net0_conv1_weight (shape=(16, 6, 5, 5), dtype=<class 'numpy.float32'>)),\n",
       " (False,\n",
       "  Parameter net0_conv1_bias (shape=(16,), dtype=<class 'numpy.float32'>)),\n",
       " (False, Parameter net0_dense0_weight (shape=(120, 256), dtype=float32)),\n",
       " (False, Parameter net0_dense0_bias (shape=(120,), dtype=float32)),\n",
       " (False, Parameter net0_dense1_weight (shape=(84, 120), dtype=float32)),\n",
       " (False, Parameter net0_dense1_bias (shape=(84,), dtype=float32)),\n",
       " (False,\n",
       "  Parameter net0_fc3_weight (shape=(10, 84), dtype=<class 'numpy.float32'>))]"
      ]
     },
     "execution_count": 38,
     "metadata": {},
     "output_type": "execute_result"
    }
   ],
   "source": [
    "for i, name in enumerate(input_names):\n",
    "    if name in data_names:\n",
    "        data_indices.append(i)\n",
    "        net._cached_op_args.append((True, data_names[name]))\n",
    "    else:\n",
    "        param_indices.append(i)\n",
    "        net._cached_op_args.append((False, params[name]))\n",
    "net._cached_op_args"
   ]
  },
  {
   "cell_type": "code",
   "execution_count": 39,
   "metadata": {},
   "outputs": [
    {
     "data": {
      "text/plain": [
       "[]"
      ]
     },
     "execution_count": 39,
     "metadata": {},
     "output_type": "execute_result"
    }
   ],
   "source": [
    "net._flags"
   ]
  },
  {
   "cell_type": "code",
   "execution_count": 40,
   "metadata": {},
   "outputs": [
    {
     "data": {
      "text/plain": [
       "[('data_indices', [0]), ('param_indices', [1, 2, 3, 4, 5, 6, 7, 8, 9])]"
      ]
     },
     "execution_count": 40,
     "metadata": {},
     "output_type": "execute_result"
    }
   ],
   "source": [
    "flags = [\n",
    "    ('data_indices', data_indices), \n",
    "    ('param_indices', param_indices)\n",
    "] + net._flags\n",
    "flags"
   ]
  },
  {
   "cell_type": "code",
   "execution_count": 41,
   "metadata": {},
   "outputs": [],
   "source": [
    "from mxnet import ndarray"
   ]
  },
  {
   "cell_type": "code",
   "execution_count": 42,
   "metadata": {},
   "outputs": [],
   "source": [
    "net._cached_op"
   ]
  },
  {
   "cell_type": "code",
   "execution_count": 43,
   "metadata": {},
   "outputs": [
    {
     "data": {
      "text/plain": [
       "<mxnet._ctypes.ndarray.CachedOp at 0x2b9ac38d0d8>"
      ]
     },
     "execution_count": 43,
     "metadata": {},
     "output_type": "execute_result"
    }
   ],
   "source": [
    "net._cached_op = ndarray.CachedOp(out, flags)\n",
    "net._cached_op"
   ]
  },
  {
   "cell_type": "code",
   "execution_count": null,
   "metadata": {},
   "outputs": [],
   "source": []
  },
  {
   "cell_type": "markdown",
   "metadata": {},
   "source": [
    "---"
   ]
  },
  {
   "cell_type": "markdown",
   "metadata": {},
   "source": [
    "---"
   ]
  },
  {
   "cell_type": "code",
   "execution_count": 44,
   "metadata": {
    "scrolled": true
   },
   "outputs": [
    {
     "ename": "AssertionError",
     "evalue": "Invalid input format",
     "output_type": "error",
     "traceback": [
      "\u001b[1;31m---------------------------------------------------------------------------\u001b[0m",
      "\u001b[1;31mAssertionError\u001b[0m                            Traceback (most recent call last)",
      "\u001b[1;32m<ipython-input-44-da6fe3348c84>\u001b[0m in \u001b[0;36m<module>\u001b[1;34m\u001b[0m\n\u001b[1;32m----> 1\u001b[1;33m \u001b[0mnet\u001b[0m\u001b[1;33m(\u001b[0m\u001b[0mx\u001b[0m\u001b[1;33m)\u001b[0m\u001b[1;33m\u001b[0m\u001b[1;33m\u001b[0m\u001b[0m\n\u001b[0m",
      "\u001b[1;32m~\\AppData\\Local\\Continuum\\anaconda3\\envs\\basic\\lib\\site-packages\\mxnet\\gluon\\block.py\u001b[0m in \u001b[0;36m__call__\u001b[1;34m(self, *args)\u001b[0m\n\u001b[0;32m    546\u001b[0m             \u001b[0mhook\u001b[0m\u001b[1;33m(\u001b[0m\u001b[0mself\u001b[0m\u001b[1;33m,\u001b[0m \u001b[0margs\u001b[0m\u001b[1;33m)\u001b[0m\u001b[1;33m\u001b[0m\u001b[1;33m\u001b[0m\u001b[0m\n\u001b[0;32m    547\u001b[0m \u001b[1;33m\u001b[0m\u001b[0m\n\u001b[1;32m--> 548\u001b[1;33m         \u001b[0mout\u001b[0m \u001b[1;33m=\u001b[0m \u001b[0mself\u001b[0m\u001b[1;33m.\u001b[0m\u001b[0mforward\u001b[0m\u001b[1;33m(\u001b[0m\u001b[1;33m*\u001b[0m\u001b[0margs\u001b[0m\u001b[1;33m)\u001b[0m\u001b[1;33m\u001b[0m\u001b[1;33m\u001b[0m\u001b[0m\n\u001b[0m\u001b[0;32m    549\u001b[0m \u001b[1;33m\u001b[0m\u001b[0m\n\u001b[0;32m    550\u001b[0m         \u001b[1;32mfor\u001b[0m \u001b[0mhook\u001b[0m \u001b[1;32min\u001b[0m \u001b[0mself\u001b[0m\u001b[1;33m.\u001b[0m\u001b[0m_forward_hooks\u001b[0m\u001b[1;33m.\u001b[0m\u001b[0mvalues\u001b[0m\u001b[1;33m(\u001b[0m\u001b[1;33m)\u001b[0m\u001b[1;33m:\u001b[0m\u001b[1;33m\u001b[0m\u001b[1;33m\u001b[0m\u001b[0m\n",
      "\u001b[1;32m~\\AppData\\Local\\Continuum\\anaconda3\\envs\\basic\\lib\\site-packages\\mxnet\\gluon\\block.py\u001b[0m in \u001b[0;36mforward\u001b[1;34m(self, x, *args)\u001b[0m\n\u001b[0;32m    913\u001b[0m             \u001b[1;32mwith\u001b[0m \u001b[0mx\u001b[0m\u001b[1;33m.\u001b[0m\u001b[0mcontext\u001b[0m \u001b[1;32mas\u001b[0m \u001b[0mctx\u001b[0m\u001b[1;33m:\u001b[0m\u001b[1;33m\u001b[0m\u001b[1;33m\u001b[0m\u001b[0m\n\u001b[0;32m    914\u001b[0m                 \u001b[1;32mif\u001b[0m \u001b[0mself\u001b[0m\u001b[1;33m.\u001b[0m\u001b[0m_active\u001b[0m\u001b[1;33m:\u001b[0m\u001b[1;33m\u001b[0m\u001b[1;33m\u001b[0m\u001b[0m\n\u001b[1;32m--> 915\u001b[1;33m                     \u001b[1;32mreturn\u001b[0m \u001b[0mself\u001b[0m\u001b[1;33m.\u001b[0m\u001b[0m_call_cached_op\u001b[0m\u001b[1;33m(\u001b[0m\u001b[0mx\u001b[0m\u001b[1;33m,\u001b[0m \u001b[1;33m*\u001b[0m\u001b[0margs\u001b[0m\u001b[1;33m)\u001b[0m\u001b[1;33m\u001b[0m\u001b[1;33m\u001b[0m\u001b[0m\n\u001b[0m\u001b[0;32m    916\u001b[0m \u001b[1;33m\u001b[0m\u001b[0m\n\u001b[0;32m    917\u001b[0m                 \u001b[1;32mtry\u001b[0m\u001b[1;33m:\u001b[0m\u001b[1;33m\u001b[0m\u001b[1;33m\u001b[0m\u001b[0m\n",
      "\u001b[1;32m~\\AppData\\Local\\Continuum\\anaconda3\\envs\\basic\\lib\\site-packages\\mxnet\\gluon\\block.py\u001b[0m in \u001b[0;36m_call_cached_op\u001b[1;34m(self, *args)\u001b[0m\n\u001b[0;32m    806\u001b[0m \u001b[1;33m\u001b[0m\u001b[0m\n\u001b[0;32m    807\u001b[0m         \u001b[0margs\u001b[0m\u001b[1;33m,\u001b[0m \u001b[0mfmt\u001b[0m \u001b[1;33m=\u001b[0m \u001b[0m_flatten\u001b[0m\u001b[1;33m(\u001b[0m\u001b[0margs\u001b[0m\u001b[1;33m,\u001b[0m \u001b[1;34m\"input\"\u001b[0m\u001b[1;33m)\u001b[0m\u001b[1;33m\u001b[0m\u001b[1;33m\u001b[0m\u001b[0m\n\u001b[1;32m--> 808\u001b[1;33m         \u001b[1;32massert\u001b[0m \u001b[0mfmt\u001b[0m \u001b[1;33m==\u001b[0m \u001b[0mself\u001b[0m\u001b[1;33m.\u001b[0m\u001b[0m_in_format\u001b[0m\u001b[1;33m,\u001b[0m \u001b[1;34m\"Invalid input format\"\u001b[0m\u001b[1;33m\u001b[0m\u001b[1;33m\u001b[0m\u001b[0m\n\u001b[0m\u001b[0;32m    809\u001b[0m         \u001b[1;32mtry\u001b[0m\u001b[1;33m:\u001b[0m\u001b[1;33m\u001b[0m\u001b[1;33m\u001b[0m\u001b[0m\n\u001b[0;32m    810\u001b[0m             cargs = [args[i] if is_arg else i.data()\n",
      "\u001b[1;31mAssertionError\u001b[0m: Invalid input format"
     ]
    }
   ],
   "source": [
    "net(x)"
   ]
  },
  {
   "cell_type": "code",
   "execution_count": 14,
   "metadata": {},
   "outputs": [
    {
     "data": {
      "text/plain": [
       "[]"
      ]
     },
     "execution_count": 14,
     "metadata": {},
     "output_type": "execute_result"
    }
   ],
   "source": [
    "net._flags"
   ]
  },
  {
   "cell_type": "code",
   "execution_count": 15,
   "metadata": {},
   "outputs": [
    {
     "data": {
      "text/plain": [
       "([<Symbol data>], <Symbol net0_dot0>)"
      ]
     },
     "execution_count": 15,
     "metadata": {},
     "output_type": "execute_result"
    }
   ],
   "source": [
    "net._cached_graph"
   ]
  },
  {
   "cell_type": "code",
   "execution_count": 16,
   "metadata": {},
   "outputs": [
    {
     "data": {
      "text/plain": [
       "<mxnet._ctypes.ndarray.CachedOp at 0x2eeaf832d68>"
      ]
     },
     "execution_count": 16,
     "metadata": {},
     "output_type": "execute_result"
    }
   ],
   "source": [
    "net._cached_op"
   ]
  },
  {
   "cell_type": "markdown",
   "metadata": {},
   "source": [
    "---"
   ]
  },
  {
   "cell_type": "code",
   "execution_count": null,
   "metadata": {},
   "outputs": [],
   "source": []
  }
 ],
 "metadata": {
  "kernelspec": {
   "display_name": "basic",
   "language": "python",
   "name": "basic"
  },
  "language_info": {
   "codemirror_mode": {
    "name": "ipython",
    "version": 3
   },
   "file_extension": ".py",
   "mimetype": "text/x-python",
   "name": "python",
   "nbconvert_exporter": "python",
   "pygments_lexer": "ipython3",
   "version": "3.6.9"
  }
 },
 "nbformat": 4,
 "nbformat_minor": 4
}
